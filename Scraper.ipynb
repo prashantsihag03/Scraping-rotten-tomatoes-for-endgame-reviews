{
 "cells": [
  {
   "cell_type": "markdown",
   "metadata": {},
   "source": [
    "# Web Scraping using Selenium"
   ]
  },
  {
   "cell_type": "markdown",
   "metadata": {},
   "source": [
    "_Starting with importing required libraries_"
   ]
  },
  {
   "cell_type": "code",
   "execution_count": 1,
   "metadata": {},
   "outputs": [],
   "source": [
    "import selenium\n",
    "from selenium import webdriver\n",
    "import pandas as pd"
   ]
  },
  {
   "cell_type": "markdown",
   "metadata": {},
   "source": [
    "initiating our driver. I am using chrome browser for scraping and therefore driver is chromedriver"
   ]
  },
  {
   "cell_type": "code",
   "execution_count": 2,
   "metadata": {},
   "outputs": [],
   "source": [
    "driver = webdriver.Chrome(r\"C:\\chromedriver\")\n",
    "driver.get(\"https://www.rottentomatoes.com/m/avengers_endgame/reviews\")\n"
   ]
  },
  {
   "cell_type": "markdown",
   "metadata": {},
   "source": [
    "Creating a pandas dataframe to store the scraped data and few lists to hold data temporarily"
   ]
  },
  {
   "cell_type": "code",
   "execution_count": 3,
   "metadata": {},
   "outputs": [],
   "source": [
    "review_df = pd.DataFrame(columns=['Date', 'Reviewer', 'Website', 'Review', 'Score'])\n"
   ]
  },
  {
   "cell_type": "code",
   "execution_count": 4,
   "metadata": {},
   "outputs": [],
   "source": [
    "dates = []\n",
    "reviews = []\n",
    "scores = []\n",
    "newscores = []\n",
    "names = []\n",
    "sites = []"
   ]
  },
  {
   "cell_type": "markdown",
   "metadata": {},
   "source": [
    "fetching element \"Review area\" by its class name and \"reviews\" by its xpath\n"
   ]
  },
  {
   "cell_type": "code",
   "execution_count": 5,
   "metadata": {},
   "outputs": [],
   "source": [
    "results = driver.find_elements_by_class_name(\"review_area\")\n",
    "\n",
    "reviewers = driver.find_elements_by_xpath('//*[@id=\"reviews\"]/div[2]/div[4]/div[1]')\n",
    "reviewnum = 1"
   ]
  },
  {
   "cell_type": "markdown",
   "metadata": {},
   "source": [
    "looping over the result object in order to store all reviews in current page"
   ]
  },
  {
   "cell_type": "code",
   "execution_count": 6,
   "metadata": {},
   "outputs": [],
   "source": [
    "for r in results:\n",
    "    dates.append(r.find_element_by_class_name('subtle').text)\n",
    "    reviews.append(r.find_element_by_class_name('the_review').text)\n",
    "    revs = r.find_element_by_class_name('review_desc')\n",
    "    scores.append(revs.find_element_by_class_name('subtle').text)\n",
    "    \n",
    "    for r in reviewers:\n",
    "        names.append(r.find_element_by_xpath('//*[@id=\"reviews\"]/div[2]/div[4]/div[' +str(reviewnum)+ ']/div[1]/div[3]/a[1]').text)\n",
    "        sites.append(r.find_element_by_xpath('//*[@id=\"reviews\"]/div[2]/div[4]/div[' +str(reviewnum)+']/div[1]/div[3]/a[2]/em').text)\n",
    "        reviewnum+=1 \n",
    "    \n"
   ]
  },
  {
   "cell_type": "code",
   "execution_count": 7,
   "metadata": {},
   "outputs": [],
   "source": [
    "for score in scores:\n",
    "    if score == ('Full Review'):\n",
    "        newscores.append('no score')\n",
    "    else:\n",
    "        score2 = score[14:]\n",
    "        newscores.append(score2)"
   ]
  },
  {
   "cell_type": "markdown",
   "metadata": {},
   "source": [
    "Now, Storing all lists in our dataframe"
   ]
  },
  {
   "cell_type": "code",
   "execution_count": 8,
   "metadata": {
    "scrolled": true
   },
   "outputs": [],
   "source": [
    "review_df['Date'] = dates\n",
    "review_df['Review'] = reviews\n",
    "review_df['Score'] = newscores\n",
    "review_df['Reviewer'] = names\n",
    "review_df['Website'] = sites"
   ]
  },
  {
   "cell_type": "code",
   "execution_count": 9,
   "metadata": {},
   "outputs": [
    {
     "data": {
      "text/html": [
       "<div>\n",
       "<style scoped>\n",
       "    .dataframe tbody tr th:only-of-type {\n",
       "        vertical-align: middle;\n",
       "    }\n",
       "\n",
       "    .dataframe tbody tr th {\n",
       "        vertical-align: top;\n",
       "    }\n",
       "\n",
       "    .dataframe thead th {\n",
       "        text-align: right;\n",
       "    }\n",
       "</style>\n",
       "<table border=\"1\" class=\"dataframe\">\n",
       "  <thead>\n",
       "    <tr style=\"text-align: right;\">\n",
       "      <th></th>\n",
       "      <th>Date</th>\n",
       "      <th>Reviewer</th>\n",
       "      <th>Website</th>\n",
       "      <th>Review</th>\n",
       "      <th>Score</th>\n",
       "    </tr>\n",
       "  </thead>\n",
       "  <tbody>\n",
       "    <tr>\n",
       "      <th>0</th>\n",
       "      <td>May 17, 2019</td>\n",
       "      <td>Matthew Lucas</td>\n",
       "      <td>The Dispatch</td>\n",
       "      <td>It's hard to deny that the Infinity Saga has b...</td>\n",
       "      <td>Original Score: 3/4</td>\n",
       "    </tr>\n",
       "    <tr>\n",
       "      <th>1</th>\n",
       "      <td>May 15, 2019</td>\n",
       "      <td>Vicente Gutiérrez</td>\n",
       "      <td>El Economista</td>\n",
       "      <td>Maybe it's the best ... That the children enjo...</td>\n",
       "      <td>no score</td>\n",
       "    </tr>\n",
       "    <tr>\n",
       "      <th>2</th>\n",
       "      <td>May 15, 2019</td>\n",
       "      <td>Aaron Leggo</td>\n",
       "      <td>Sloths and Movies</td>\n",
       "      <td>Endgame is not exactly an inspired finish, but...</td>\n",
       "      <td>Original Score: 3/5</td>\n",
       "    </tr>\n",
       "    <tr>\n",
       "      <th>3</th>\n",
       "      <td>May 15, 2019</td>\n",
       "      <td>Federico Furzan</td>\n",
       "      <td>Cinelipsis</td>\n",
       "      <td>The end feels quite as it should feel. And the...</td>\n",
       "      <td>Original Score: 3/4</td>\n",
       "    </tr>\n",
       "    <tr>\n",
       "      <th>4</th>\n",
       "      <td>May 14, 2019</td>\n",
       "      <td>Tim Brayton</td>\n",
       "      <td>Alternate Ending</td>\n",
       "      <td>With a spectacularly unjustified running time ...</td>\n",
       "      <td>Original Score: 2.5/5</td>\n",
       "    </tr>\n",
       "    <tr>\n",
       "      <th>5</th>\n",
       "      <td>May 14, 2019</td>\n",
       "      <td>Matthew Toomey</td>\n",
       "      <td>ABC Radio Brisbane</td>\n",
       "      <td>With plenty of surprises and the right mix bet...</td>\n",
       "      <td>Original Score: A-</td>\n",
       "    </tr>\n",
       "    <tr>\n",
       "      <th>6</th>\n",
       "      <td>May 13, 2019</td>\n",
       "      <td>Justin Brown</td>\n",
       "      <td>Medium Popcorn</td>\n",
       "      <td>They created a tone within this universe that ...</td>\n",
       "      <td>Original Score: 5/5</td>\n",
       "    </tr>\n",
       "    <tr>\n",
       "      <th>7</th>\n",
       "      <td>May 13, 2019</td>\n",
       "      <td>Brandon Collins</td>\n",
       "      <td>Medium Popcorn</td>\n",
       "      <td>One of the best movies I've ever seen. One of ...</td>\n",
       "      <td>Original Score: 5/5</td>\n",
       "    </tr>\n",
       "    <tr>\n",
       "      <th>8</th>\n",
       "      <td>May 13, 2019</td>\n",
       "      <td>Christopher Llewellyn Reed</td>\n",
       "      <td>Reel Talk with Christopher Llewellyn Reed</td>\n",
       "      <td>So, much to my surprise, I liked this, even at...</td>\n",
       "      <td>no score</td>\n",
       "    </tr>\n",
       "    <tr>\n",
       "      <th>9</th>\n",
       "      <td>May 13, 2019</td>\n",
       "      <td>Paula Fleri-Soler</td>\n",
       "      <td>Times of Malta</td>\n",
       "      <td>Mind-blowing and nail-biting doesn't begin to ...</td>\n",
       "      <td>Original Score: 5/5</td>\n",
       "    </tr>\n",
       "    <tr>\n",
       "      <th>10</th>\n",
       "      <td>May 13, 2019</td>\n",
       "      <td>James Kendrick</td>\n",
       "      <td>Q Network Film Desk</td>\n",
       "      <td>what I found most impressive about Endgame is ...</td>\n",
       "      <td>Original Score: 3.5/4</td>\n",
       "    </tr>\n",
       "    <tr>\n",
       "      <th>11</th>\n",
       "      <td>May 10, 2019</td>\n",
       "      <td>Jorge Castillo</td>\n",
       "      <td>Prairie Dog Magazine</td>\n",
       "      <td>The main takeaway of Avengers: Endgame is the ...</td>\n",
       "      <td>Original Score: 4/5</td>\n",
       "    </tr>\n",
       "    <tr>\n",
       "      <th>12</th>\n",
       "      <td>May 10, 2019</td>\n",
       "      <td>Pablo Villaça</td>\n",
       "      <td>Cinema em Cena</td>\n",
       "      <td>It's revealing that after 22 movies packed wit...</td>\n",
       "      <td>Original Score: 5/5</td>\n",
       "    </tr>\n",
       "    <tr>\n",
       "      <th>13</th>\n",
       "      <td>May 8, 2019</td>\n",
       "      <td>Christopher Schobert</td>\n",
       "      <td>Filmswoon</td>\n",
       "      <td>Yes, it's long, but it's rare to find a three-...</td>\n",
       "      <td>Original Score: B+</td>\n",
       "    </tr>\n",
       "    <tr>\n",
       "      <th>14</th>\n",
       "      <td>May 7, 2019</td>\n",
       "      <td>Samuel R. Murrian</td>\n",
       "      <td>Parade Magazine</td>\n",
       "      <td>The MCU pictures have always stressed that nei...</td>\n",
       "      <td>Original Score: 4.5/5</td>\n",
       "    </tr>\n",
       "    <tr>\n",
       "      <th>15</th>\n",
       "      <td>May 6, 2019</td>\n",
       "      <td>Andre Meadows</td>\n",
       "      <td>Black Nerd Comedy</td>\n",
       "      <td>I've already seen it twice, and I want to see ...</td>\n",
       "      <td>no score</td>\n",
       "    </tr>\n",
       "    <tr>\n",
       "      <th>16</th>\n",
       "      <td>May 6, 2019</td>\n",
       "      <td>Li Lai</td>\n",
       "      <td>Mediaversity Reviews</td>\n",
       "      <td>Where Endgame fails its female characters by d...</td>\n",
       "      <td>Original Score: 3.08/5</td>\n",
       "    </tr>\n",
       "    <tr>\n",
       "      <th>17</th>\n",
       "      <td>May 5, 2019</td>\n",
       "      <td>Bob Grimm</td>\n",
       "      <td>Reno News and Review</td>\n",
       "      <td>Afterwards, your belly will be full of superhe...</td>\n",
       "      <td>Original Score: 4/5</td>\n",
       "    </tr>\n",
       "    <tr>\n",
       "      <th>18</th>\n",
       "      <td>May 4, 2019</td>\n",
       "      <td>Matt Brunson</td>\n",
       "      <td>Film Frenzy</td>\n",
       "      <td>Is it the best superhero movie ever made? In t...</td>\n",
       "      <td>Original Score: 3.5/4</td>\n",
       "    </tr>\n",
       "    <tr>\n",
       "      <th>19</th>\n",
       "      <td>May 3, 2019</td>\n",
       "      <td>Micah Peters</td>\n",
       "      <td>The Ringer</td>\n",
       "      <td>An expansive story, a large and unwieldy unive...</td>\n",
       "      <td>no score</td>\n",
       "    </tr>\n",
       "  </tbody>\n",
       "</table>\n",
       "</div>"
      ],
      "text/plain": [
       "            Date                    Reviewer  \\\n",
       "0   May 17, 2019               Matthew Lucas   \n",
       "1   May 15, 2019           Vicente Gutiérrez   \n",
       "2   May 15, 2019                 Aaron Leggo   \n",
       "3   May 15, 2019             Federico Furzan   \n",
       "4   May 14, 2019                 Tim Brayton   \n",
       "5   May 14, 2019              Matthew Toomey   \n",
       "6   May 13, 2019                Justin Brown   \n",
       "7   May 13, 2019             Brandon Collins   \n",
       "8   May 13, 2019  Christopher Llewellyn Reed   \n",
       "9   May 13, 2019           Paula Fleri-Soler   \n",
       "10  May 13, 2019              James Kendrick   \n",
       "11  May 10, 2019              Jorge Castillo   \n",
       "12  May 10, 2019               Pablo Villaça   \n",
       "13   May 8, 2019        Christopher Schobert   \n",
       "14   May 7, 2019           Samuel R. Murrian   \n",
       "15   May 6, 2019               Andre Meadows   \n",
       "16   May 6, 2019                      Li Lai   \n",
       "17   May 5, 2019                   Bob Grimm   \n",
       "18   May 4, 2019                Matt Brunson   \n",
       "19   May 3, 2019                Micah Peters   \n",
       "\n",
       "                                      Website  \\\n",
       "0                                The Dispatch   \n",
       "1                               El Economista   \n",
       "2                           Sloths and Movies   \n",
       "3                                  Cinelipsis   \n",
       "4                            Alternate Ending   \n",
       "5                          ABC Radio Brisbane   \n",
       "6                              Medium Popcorn   \n",
       "7                              Medium Popcorn   \n",
       "8   Reel Talk with Christopher Llewellyn Reed   \n",
       "9                              Times of Malta   \n",
       "10                        Q Network Film Desk   \n",
       "11                       Prairie Dog Magazine   \n",
       "12                             Cinema em Cena   \n",
       "13                                  Filmswoon   \n",
       "14                            Parade Magazine   \n",
       "15                          Black Nerd Comedy   \n",
       "16                       Mediaversity Reviews   \n",
       "17                       Reno News and Review   \n",
       "18                                Film Frenzy   \n",
       "19                                 The Ringer   \n",
       "\n",
       "                                               Review                   Score  \n",
       "0   It's hard to deny that the Infinity Saga has b...     Original Score: 3/4  \n",
       "1   Maybe it's the best ... That the children enjo...                no score  \n",
       "2   Endgame is not exactly an inspired finish, but...     Original Score: 3/5  \n",
       "3   The end feels quite as it should feel. And the...     Original Score: 3/4  \n",
       "4   With a spectacularly unjustified running time ...   Original Score: 2.5/5  \n",
       "5   With plenty of surprises and the right mix bet...      Original Score: A-  \n",
       "6   They created a tone within this universe that ...     Original Score: 5/5  \n",
       "7   One of the best movies I've ever seen. One of ...     Original Score: 5/5  \n",
       "8   So, much to my surprise, I liked this, even at...                no score  \n",
       "9   Mind-blowing and nail-biting doesn't begin to ...     Original Score: 5/5  \n",
       "10  what I found most impressive about Endgame is ...   Original Score: 3.5/4  \n",
       "11  The main takeaway of Avengers: Endgame is the ...     Original Score: 4/5  \n",
       "12  It's revealing that after 22 movies packed wit...     Original Score: 5/5  \n",
       "13  Yes, it's long, but it's rare to find a three-...      Original Score: B+  \n",
       "14  The MCU pictures have always stressed that nei...   Original Score: 4.5/5  \n",
       "15  I've already seen it twice, and I want to see ...                no score  \n",
       "16  Where Endgame fails its female characters by d...  Original Score: 3.08/5  \n",
       "17  Afterwards, your belly will be full of superhe...     Original Score: 4/5  \n",
       "18  Is it the best superhero movie ever made? In t...   Original Score: 3.5/4  \n",
       "19  An expansive story, a large and unwieldy unive...                no score  "
      ]
     },
     "execution_count": 9,
     "metadata": {},
     "output_type": "execute_result"
    }
   ],
   "source": [
    "review_df"
   ]
  },
  {
   "cell_type": "code",
   "execution_count": 11,
   "metadata": {},
   "outputs": [],
   "source": [
    "review_df.to_excel(\"scraped_reviews.xlsx\", sheet_name = \"Sheet1\")"
   ]
  },
  {
   "cell_type": "code",
   "execution_count": null,
   "metadata": {},
   "outputs": [],
   "source": []
  },
  {
   "cell_type": "code",
   "execution_count": null,
   "metadata": {},
   "outputs": [],
   "source": []
  },
  {
   "cell_type": "code",
   "execution_count": null,
   "metadata": {},
   "outputs": [],
   "source": []
  },
  {
   "cell_type": "code",
   "execution_count": null,
   "metadata": {},
   "outputs": [],
   "source": []
  },
  {
   "cell_type": "code",
   "execution_count": null,
   "metadata": {},
   "outputs": [],
   "source": []
  }
 ],
 "metadata": {
  "kernelspec": {
   "display_name": "Python 3",
   "language": "python",
   "name": "python3"
  },
  "language_info": {
   "codemirror_mode": {
    "name": "ipython",
    "version": 3
   },
   "file_extension": ".py",
   "mimetype": "text/x-python",
   "name": "python",
   "nbconvert_exporter": "python",
   "pygments_lexer": "ipython3",
   "version": "3.6.8"
  }
 },
 "nbformat": 4,
 "nbformat_minor": 2
}
